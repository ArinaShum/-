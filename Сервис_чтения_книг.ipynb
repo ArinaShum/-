{
 "cells": [
  {
   "cell_type": "markdown",
   "metadata": {},
   "source": [
    "# Проект по SQL"
   ]
  },
  {
   "cell_type": "markdown",
   "metadata": {},
   "source": [
    "## Задачи\n",
    "\n",
    "Главная цель — проанализировать базу данных.\n",
    "В ней — информация о книгах, издательствах, авторах, а также пользовательские обзоры книг. Эти данные помогут сформулировать ценностное предложение для нового продукта."
   ]
  },
  {
   "cell_type": "code",
   "execution_count": 1,
   "metadata": {},
   "outputs": [],
   "source": [
    "import pandas as pd\n",
    "from sqlalchemy import text, create_engine"
   ]
  },
  {
   "cell_type": "code",
   "execution_count": 2,
   "metadata": {},
   "outputs": [],
   "source": [
    "db_config = {'user': 'praktikum_student', # имя пользователя\n",
    "'pwd': 'Sdf4$2;d-d30pp', # пароль\n",
    "'host': 'rc1b-wcoijxj3yxfsf3fs.mdb.yandexcloud.net',\n",
    "'port': 6432, # порт подключения\n",
    "'db': 'data-analyst-final-project-db'} # название базы данных\n",
    "connection_string = 'postgresql://{user}:{pwd}@{host}:{port}/{db}'.format(**db_config)\n",
    "# сохраняем коннектор\n",
    "engine = create_engine(connection_string, connect_args={'sslmode':'require'})"
   ]
  },
  {
   "cell_type": "code",
   "execution_count": 3,
   "metadata": {},
   "outputs": [
    {
     "data": {
      "text/html": [
       "<div>\n",
       "<style scoped>\n",
       "    .dataframe tbody tr th:only-of-type {\n",
       "        vertical-align: middle;\n",
       "    }\n",
       "\n",
       "    .dataframe tbody tr th {\n",
       "        vertical-align: top;\n",
       "    }\n",
       "\n",
       "    .dataframe thead th {\n",
       "        text-align: right;\n",
       "    }\n",
       "</style>\n",
       "<table border=\"1\" class=\"dataframe\">\n",
       "  <thead>\n",
       "    <tr style=\"text-align: right;\">\n",
       "      <th></th>\n",
       "      <th>book_id</th>\n",
       "      <th>author_id</th>\n",
       "      <th>title</th>\n",
       "      <th>num_pages</th>\n",
       "      <th>publication_date</th>\n",
       "      <th>publisher_id</th>\n",
       "    </tr>\n",
       "  </thead>\n",
       "  <tbody>\n",
       "    <tr>\n",
       "      <th>0</th>\n",
       "      <td>1</td>\n",
       "      <td>546</td>\n",
       "      <td>'Salem's Lot</td>\n",
       "      <td>594</td>\n",
       "      <td>2005-11-01</td>\n",
       "      <td>93</td>\n",
       "    </tr>\n",
       "    <tr>\n",
       "      <th>1</th>\n",
       "      <td>2</td>\n",
       "      <td>465</td>\n",
       "      <td>1 000 Places to See Before You Die</td>\n",
       "      <td>992</td>\n",
       "      <td>2003-05-22</td>\n",
       "      <td>336</td>\n",
       "    </tr>\n",
       "    <tr>\n",
       "      <th>2</th>\n",
       "      <td>3</td>\n",
       "      <td>407</td>\n",
       "      <td>13 Little Blue Envelopes (Little Blue Envelope...</td>\n",
       "      <td>322</td>\n",
       "      <td>2010-12-21</td>\n",
       "      <td>135</td>\n",
       "    </tr>\n",
       "    <tr>\n",
       "      <th>3</th>\n",
       "      <td>4</td>\n",
       "      <td>82</td>\n",
       "      <td>1491: New Revelations of the Americas Before C...</td>\n",
       "      <td>541</td>\n",
       "      <td>2006-10-10</td>\n",
       "      <td>309</td>\n",
       "    </tr>\n",
       "    <tr>\n",
       "      <th>4</th>\n",
       "      <td>5</td>\n",
       "      <td>125</td>\n",
       "      <td>1776</td>\n",
       "      <td>386</td>\n",
       "      <td>2006-07-04</td>\n",
       "      <td>268</td>\n",
       "    </tr>\n",
       "  </tbody>\n",
       "</table>\n",
       "</div>"
      ],
      "text/plain": [
       "   book_id  author_id                                              title  \\\n",
       "0        1        546                                       'Salem's Lot   \n",
       "1        2        465                 1 000 Places to See Before You Die   \n",
       "2        3        407  13 Little Blue Envelopes (Little Blue Envelope...   \n",
       "3        4         82  1491: New Revelations of the Americas Before C...   \n",
       "4        5        125                                               1776   \n",
       "\n",
       "   num_pages publication_date  publisher_id  \n",
       "0        594       2005-11-01            93  \n",
       "1        992       2003-05-22           336  \n",
       "2        322       2010-12-21           135  \n",
       "3        541       2006-10-10           309  \n",
       "4        386       2006-07-04           268  "
      ]
     },
     "execution_count": 3,
     "metadata": {},
     "output_type": "execute_result"
    }
   ],
   "source": [
    "query = '''SELECT * \n",
    "           FROM books \n",
    "           LIMIT 5'''\n",
    "con=engine.connect()\n",
    "pd.io.sql.read_sql(sql=text(query), con = con)"
   ]
  },
  {
   "cell_type": "code",
   "execution_count": 4,
   "metadata": {},
   "outputs": [
    {
     "data": {
      "text/html": [
       "<div>\n",
       "<style scoped>\n",
       "    .dataframe tbody tr th:only-of-type {\n",
       "        vertical-align: middle;\n",
       "    }\n",
       "\n",
       "    .dataframe tbody tr th {\n",
       "        vertical-align: top;\n",
       "    }\n",
       "\n",
       "    .dataframe thead th {\n",
       "        text-align: right;\n",
       "    }\n",
       "</style>\n",
       "<table border=\"1\" class=\"dataframe\">\n",
       "  <thead>\n",
       "    <tr style=\"text-align: right;\">\n",
       "      <th></th>\n",
       "      <th>author_id</th>\n",
       "      <th>author</th>\n",
       "    </tr>\n",
       "  </thead>\n",
       "  <tbody>\n",
       "    <tr>\n",
       "      <th>0</th>\n",
       "      <td>1</td>\n",
       "      <td>A.S. Byatt</td>\n",
       "    </tr>\n",
       "    <tr>\n",
       "      <th>1</th>\n",
       "      <td>2</td>\n",
       "      <td>Aesop/Laura Harris/Laura Gibbs</td>\n",
       "    </tr>\n",
       "    <tr>\n",
       "      <th>2</th>\n",
       "      <td>3</td>\n",
       "      <td>Agatha Christie</td>\n",
       "    </tr>\n",
       "    <tr>\n",
       "      <th>3</th>\n",
       "      <td>4</td>\n",
       "      <td>Alan Brennert</td>\n",
       "    </tr>\n",
       "    <tr>\n",
       "      <th>4</th>\n",
       "      <td>5</td>\n",
       "      <td>Alan Moore/David   Lloyd</td>\n",
       "    </tr>\n",
       "  </tbody>\n",
       "</table>\n",
       "</div>"
      ],
      "text/plain": [
       "   author_id                          author\n",
       "0          1                      A.S. Byatt\n",
       "1          2  Aesop/Laura Harris/Laura Gibbs\n",
       "2          3                 Agatha Christie\n",
       "3          4                   Alan Brennert\n",
       "4          5        Alan Moore/David   Lloyd"
      ]
     },
     "execution_count": 4,
     "metadata": {},
     "output_type": "execute_result"
    }
   ],
   "source": [
    "query = '''SELECT * \n",
    "           FROM authors \n",
    "           LIMIT 5'''\n",
    "con=engine.connect()\n",
    "pd.io.sql.read_sql(sql=text(query), con = con)"
   ]
  },
  {
   "cell_type": "code",
   "execution_count": 5,
   "metadata": {},
   "outputs": [
    {
     "data": {
      "text/html": [
       "<div>\n",
       "<style scoped>\n",
       "    .dataframe tbody tr th:only-of-type {\n",
       "        vertical-align: middle;\n",
       "    }\n",
       "\n",
       "    .dataframe tbody tr th {\n",
       "        vertical-align: top;\n",
       "    }\n",
       "\n",
       "    .dataframe thead th {\n",
       "        text-align: right;\n",
       "    }\n",
       "</style>\n",
       "<table border=\"1\" class=\"dataframe\">\n",
       "  <thead>\n",
       "    <tr style=\"text-align: right;\">\n",
       "      <th></th>\n",
       "      <th>publisher_id</th>\n",
       "      <th>publisher</th>\n",
       "    </tr>\n",
       "  </thead>\n",
       "  <tbody>\n",
       "    <tr>\n",
       "      <th>0</th>\n",
       "      <td>1</td>\n",
       "      <td>Ace</td>\n",
       "    </tr>\n",
       "    <tr>\n",
       "      <th>1</th>\n",
       "      <td>2</td>\n",
       "      <td>Ace Book</td>\n",
       "    </tr>\n",
       "    <tr>\n",
       "      <th>2</th>\n",
       "      <td>3</td>\n",
       "      <td>Ace Books</td>\n",
       "    </tr>\n",
       "    <tr>\n",
       "      <th>3</th>\n",
       "      <td>4</td>\n",
       "      <td>Ace Hardcover</td>\n",
       "    </tr>\n",
       "    <tr>\n",
       "      <th>4</th>\n",
       "      <td>5</td>\n",
       "      <td>Addison Wesley Publishing Company</td>\n",
       "    </tr>\n",
       "  </tbody>\n",
       "</table>\n",
       "</div>"
      ],
      "text/plain": [
       "   publisher_id                          publisher\n",
       "0             1                                Ace\n",
       "1             2                           Ace Book\n",
       "2             3                          Ace Books\n",
       "3             4                      Ace Hardcover\n",
       "4             5  Addison Wesley Publishing Company"
      ]
     },
     "execution_count": 5,
     "metadata": {},
     "output_type": "execute_result"
    }
   ],
   "source": [
    "query = '''SELECT * \n",
    "           FROM publishers \n",
    "           LIMIT 5'''\n",
    "con=engine.connect()\n",
    "pd.io.sql.read_sql(sql=text(query), con = con)"
   ]
  },
  {
   "cell_type": "code",
   "execution_count": 6,
   "metadata": {},
   "outputs": [
    {
     "data": {
      "text/html": [
       "<div>\n",
       "<style scoped>\n",
       "    .dataframe tbody tr th:only-of-type {\n",
       "        vertical-align: middle;\n",
       "    }\n",
       "\n",
       "    .dataframe tbody tr th {\n",
       "        vertical-align: top;\n",
       "    }\n",
       "\n",
       "    .dataframe thead th {\n",
       "        text-align: right;\n",
       "    }\n",
       "</style>\n",
       "<table border=\"1\" class=\"dataframe\">\n",
       "  <thead>\n",
       "    <tr style=\"text-align: right;\">\n",
       "      <th></th>\n",
       "      <th>rating_id</th>\n",
       "      <th>book_id</th>\n",
       "      <th>username</th>\n",
       "      <th>rating</th>\n",
       "    </tr>\n",
       "  </thead>\n",
       "  <tbody>\n",
       "    <tr>\n",
       "      <th>0</th>\n",
       "      <td>1</td>\n",
       "      <td>1</td>\n",
       "      <td>ryanfranco</td>\n",
       "      <td>4</td>\n",
       "    </tr>\n",
       "    <tr>\n",
       "      <th>1</th>\n",
       "      <td>2</td>\n",
       "      <td>1</td>\n",
       "      <td>grantpatricia</td>\n",
       "      <td>2</td>\n",
       "    </tr>\n",
       "    <tr>\n",
       "      <th>2</th>\n",
       "      <td>3</td>\n",
       "      <td>1</td>\n",
       "      <td>brandtandrea</td>\n",
       "      <td>5</td>\n",
       "    </tr>\n",
       "    <tr>\n",
       "      <th>3</th>\n",
       "      <td>4</td>\n",
       "      <td>2</td>\n",
       "      <td>lorichen</td>\n",
       "      <td>3</td>\n",
       "    </tr>\n",
       "    <tr>\n",
       "      <th>4</th>\n",
       "      <td>5</td>\n",
       "      <td>2</td>\n",
       "      <td>mariokeller</td>\n",
       "      <td>2</td>\n",
       "    </tr>\n",
       "  </tbody>\n",
       "</table>\n",
       "</div>"
      ],
      "text/plain": [
       "   rating_id  book_id       username  rating\n",
       "0          1        1     ryanfranco       4\n",
       "1          2        1  grantpatricia       2\n",
       "2          3        1   brandtandrea       5\n",
       "3          4        2       lorichen       3\n",
       "4          5        2    mariokeller       2"
      ]
     },
     "execution_count": 6,
     "metadata": {},
     "output_type": "execute_result"
    }
   ],
   "source": [
    "query = '''SELECT * \n",
    "           FROM ratings \n",
    "           LIMIT 5'''\n",
    "con=engine.connect()\n",
    "pd.io.sql.read_sql(sql=text(query), con = con)"
   ]
  },
  {
   "cell_type": "code",
   "execution_count": 7,
   "metadata": {},
   "outputs": [
    {
     "data": {
      "text/html": [
       "<div>\n",
       "<style scoped>\n",
       "    .dataframe tbody tr th:only-of-type {\n",
       "        vertical-align: middle;\n",
       "    }\n",
       "\n",
       "    .dataframe tbody tr th {\n",
       "        vertical-align: top;\n",
       "    }\n",
       "\n",
       "    .dataframe thead th {\n",
       "        text-align: right;\n",
       "    }\n",
       "</style>\n",
       "<table border=\"1\" class=\"dataframe\">\n",
       "  <thead>\n",
       "    <tr style=\"text-align: right;\">\n",
       "      <th></th>\n",
       "      <th>review_id</th>\n",
       "      <th>book_id</th>\n",
       "      <th>username</th>\n",
       "      <th>text</th>\n",
       "    </tr>\n",
       "  </thead>\n",
       "  <tbody>\n",
       "    <tr>\n",
       "      <th>0</th>\n",
       "      <td>1</td>\n",
       "      <td>1</td>\n",
       "      <td>brandtandrea</td>\n",
       "      <td>Mention society tell send professor analysis. ...</td>\n",
       "    </tr>\n",
       "    <tr>\n",
       "      <th>1</th>\n",
       "      <td>2</td>\n",
       "      <td>1</td>\n",
       "      <td>ryanfranco</td>\n",
       "      <td>Foot glass pretty audience hit themselves. Amo...</td>\n",
       "    </tr>\n",
       "    <tr>\n",
       "      <th>2</th>\n",
       "      <td>3</td>\n",
       "      <td>2</td>\n",
       "      <td>lorichen</td>\n",
       "      <td>Listen treat keep worry. Miss husband tax but ...</td>\n",
       "    </tr>\n",
       "    <tr>\n",
       "      <th>3</th>\n",
       "      <td>4</td>\n",
       "      <td>3</td>\n",
       "      <td>johnsonamanda</td>\n",
       "      <td>Finally month interesting blue could nature cu...</td>\n",
       "    </tr>\n",
       "    <tr>\n",
       "      <th>4</th>\n",
       "      <td>5</td>\n",
       "      <td>3</td>\n",
       "      <td>scotttamara</td>\n",
       "      <td>Nation purpose heavy give wait song will. List...</td>\n",
       "    </tr>\n",
       "  </tbody>\n",
       "</table>\n",
       "</div>"
      ],
      "text/plain": [
       "   review_id  book_id       username  \\\n",
       "0          1        1   brandtandrea   \n",
       "1          2        1     ryanfranco   \n",
       "2          3        2       lorichen   \n",
       "3          4        3  johnsonamanda   \n",
       "4          5        3    scotttamara   \n",
       "\n",
       "                                                text  \n",
       "0  Mention society tell send professor analysis. ...  \n",
       "1  Foot glass pretty audience hit themselves. Amo...  \n",
       "2  Listen treat keep worry. Miss husband tax but ...  \n",
       "3  Finally month interesting blue could nature cu...  \n",
       "4  Nation purpose heavy give wait song will. List...  "
      ]
     },
     "execution_count": 7,
     "metadata": {},
     "output_type": "execute_result"
    }
   ],
   "source": [
    "query = '''SELECT * \n",
    "           FROM reviews \n",
    "           LIMIT 5'''\n",
    "con=engine.connect()\n",
    "pd.io.sql.read_sql(sql=text(query), con = con)"
   ]
  },
  {
   "cell_type": "markdown",
   "metadata": {},
   "source": [
    "1) Посчитайте, сколько книг вышло после 1 января 2000 года."
   ]
  },
  {
   "cell_type": "code",
   "execution_count": 8,
   "metadata": {},
   "outputs": [
    {
     "data": {
      "text/html": [
       "<div>\n",
       "<style scoped>\n",
       "    .dataframe tbody tr th:only-of-type {\n",
       "        vertical-align: middle;\n",
       "    }\n",
       "\n",
       "    .dataframe tbody tr th {\n",
       "        vertical-align: top;\n",
       "    }\n",
       "\n",
       "    .dataframe thead th {\n",
       "        text-align: right;\n",
       "    }\n",
       "</style>\n",
       "<table border=\"1\" class=\"dataframe\">\n",
       "  <thead>\n",
       "    <tr style=\"text-align: right;\">\n",
       "      <th></th>\n",
       "      <th>count</th>\n",
       "    </tr>\n",
       "  </thead>\n",
       "  <tbody>\n",
       "    <tr>\n",
       "      <th>0</th>\n",
       "      <td>819</td>\n",
       "    </tr>\n",
       "  </tbody>\n",
       "</table>\n",
       "</div>"
      ],
      "text/plain": [
       "   count\n",
       "0    819"
      ]
     },
     "execution_count": 8,
     "metadata": {},
     "output_type": "execute_result"
    }
   ],
   "source": [
    "query = '''SELECT COUNT(*) \n",
    "           FROM books \n",
    "           WHERE publication_date > '2000-01-01';'''\n",
    "con=engine.connect()\n",
    "pd.io.sql.read_sql(sql=text(query), con = con)"
   ]
  },
  {
   "cell_type": "markdown",
   "metadata": {},
   "source": [
    "Всего после 1 января 2000 года вышло 819 книг."
   ]
  },
  {
   "cell_type": "markdown",
   "metadata": {},
   "source": [
    "2) Для каждой книги посчитайте количество обзоров и среднюю оценку;"
   ]
  },
  {
   "cell_type": "code",
   "execution_count": 9,
   "metadata": {},
   "outputs": [
    {
     "data": {
      "text/html": [
       "<div>\n",
       "<style scoped>\n",
       "    .dataframe tbody tr th:only-of-type {\n",
       "        vertical-align: middle;\n",
       "    }\n",
       "\n",
       "    .dataframe tbody tr th {\n",
       "        vertical-align: top;\n",
       "    }\n",
       "\n",
       "    .dataframe thead th {\n",
       "        text-align: right;\n",
       "    }\n",
       "</style>\n",
       "<table border=\"1\" class=\"dataframe\">\n",
       "  <thead>\n",
       "    <tr style=\"text-align: right;\">\n",
       "      <th></th>\n",
       "      <th>title</th>\n",
       "      <th>count_review</th>\n",
       "      <th>avg_rating</th>\n",
       "    </tr>\n",
       "  </thead>\n",
       "  <tbody>\n",
       "    <tr>\n",
       "      <th>0</th>\n",
       "      <td>Pop Goes the Weasel (Alex Cross  #5)</td>\n",
       "      <td>2.0</td>\n",
       "      <td>5.00</td>\n",
       "    </tr>\n",
       "    <tr>\n",
       "      <th>1</th>\n",
       "      <td>The Ghost Map: The Story of London's Most Terr...</td>\n",
       "      <td>2.0</td>\n",
       "      <td>5.00</td>\n",
       "    </tr>\n",
       "    <tr>\n",
       "      <th>2</th>\n",
       "      <td>In the Hand of the Goddess (Song of the Liones...</td>\n",
       "      <td>2.0</td>\n",
       "      <td>5.00</td>\n",
       "    </tr>\n",
       "    <tr>\n",
       "      <th>3</th>\n",
       "      <td>Tai-Pan (Asian Saga  #2)</td>\n",
       "      <td>2.0</td>\n",
       "      <td>5.00</td>\n",
       "    </tr>\n",
       "    <tr>\n",
       "      <th>4</th>\n",
       "      <td>How to Be a Domestic Goddess: Baking and the A...</td>\n",
       "      <td>1.0</td>\n",
       "      <td>5.00</td>\n",
       "    </tr>\n",
       "    <tr>\n",
       "      <th>...</th>\n",
       "      <td>...</td>\n",
       "      <td>...</td>\n",
       "      <td>...</td>\n",
       "    </tr>\n",
       "    <tr>\n",
       "      <th>995</th>\n",
       "      <td>The World Is Flat: A Brief History of the Twen...</td>\n",
       "      <td>3.0</td>\n",
       "      <td>2.25</td>\n",
       "    </tr>\n",
       "    <tr>\n",
       "      <th>996</th>\n",
       "      <td>Junky</td>\n",
       "      <td>2.0</td>\n",
       "      <td>2.00</td>\n",
       "    </tr>\n",
       "    <tr>\n",
       "      <th>997</th>\n",
       "      <td>His Excellency: George Washington</td>\n",
       "      <td>2.0</td>\n",
       "      <td>2.00</td>\n",
       "    </tr>\n",
       "    <tr>\n",
       "      <th>998</th>\n",
       "      <td>Drowning Ruth</td>\n",
       "      <td>3.0</td>\n",
       "      <td>2.00</td>\n",
       "    </tr>\n",
       "    <tr>\n",
       "      <th>999</th>\n",
       "      <td>Harvesting the Heart</td>\n",
       "      <td>2.0</td>\n",
       "      <td>1.50</td>\n",
       "    </tr>\n",
       "  </tbody>\n",
       "</table>\n",
       "<p>1000 rows × 3 columns</p>\n",
       "</div>"
      ],
      "text/plain": [
       "                                                 title  count_review  \\\n",
       "0                 Pop Goes the Weasel (Alex Cross  #5)           2.0   \n",
       "1    The Ghost Map: The Story of London's Most Terr...           2.0   \n",
       "2    In the Hand of the Goddess (Song of the Liones...           2.0   \n",
       "3                             Tai-Pan (Asian Saga  #2)           2.0   \n",
       "4    How to Be a Domestic Goddess: Baking and the A...           1.0   \n",
       "..                                                 ...           ...   \n",
       "995  The World Is Flat: A Brief History of the Twen...           3.0   \n",
       "996                                              Junky           2.0   \n",
       "997                  His Excellency: George Washington           2.0   \n",
       "998                                      Drowning Ruth           3.0   \n",
       "999                               Harvesting the Heart           2.0   \n",
       "\n",
       "     avg_rating  \n",
       "0          5.00  \n",
       "1          5.00  \n",
       "2          5.00  \n",
       "3          5.00  \n",
       "4          5.00  \n",
       "..          ...  \n",
       "995        2.25  \n",
       "996        2.00  \n",
       "997        2.00  \n",
       "998        2.00  \n",
       "999        1.50  \n",
       "\n",
       "[1000 rows x 3 columns]"
      ]
     },
     "execution_count": 9,
     "metadata": {},
     "output_type": "execute_result"
    }
   ],
   "source": [
    "query = ''' \n",
    "WITH\n",
    "a AS (SELECT book_id,\n",
    "             COUNT(review_id) as count_review\n",
    "             FROM reviews\n",
    "             GROUP BY book_id),\n",
    "             \n",
    "c AS (SELECT book_id,\n",
    "             AVG(rating) as avg_rating\n",
    "             FROM ratings\n",
    "             GROUP BY book_id)\n",
    "\n",
    "SELECT title,\n",
    "       a.count_review,\n",
    "       c.avg_rating\n",
    "FROM books AS b LEFT JOIN a ON b.book_id=a.book_id\n",
    "LEFT JOIN c ON b.book_id=c.book_id\n",
    "ORDER BY c.avg_rating DESC\n",
    "'''\n",
    "con=engine.connect()\n",
    "pd.io.sql.read_sql(sql=text(query), con = con)\n"
   ]
  },
  {
   "cell_type": "markdown",
   "metadata": {},
   "source": [
    "Самый низкий рейтинг - 1.5, самый большой, соответственно, - 5."
   ]
  },
  {
   "cell_type": "markdown",
   "metadata": {},
   "source": [
    "3) Определите издательство, которое выпустило наибольшее число книг толще 50 страниц — так вы исключите из анализа брошюры;"
   ]
  },
  {
   "cell_type": "code",
   "execution_count": 10,
   "metadata": {},
   "outputs": [
    {
     "data": {
      "text/html": [
       "<div>\n",
       "<style scoped>\n",
       "    .dataframe tbody tr th:only-of-type {\n",
       "        vertical-align: middle;\n",
       "    }\n",
       "\n",
       "    .dataframe tbody tr th {\n",
       "        vertical-align: top;\n",
       "    }\n",
       "\n",
       "    .dataframe thead th {\n",
       "        text-align: right;\n",
       "    }\n",
       "</style>\n",
       "<table border=\"1\" class=\"dataframe\">\n",
       "  <thead>\n",
       "    <tr style=\"text-align: right;\">\n",
       "      <th></th>\n",
       "      <th>publisher</th>\n",
       "      <th>count_books</th>\n",
       "    </tr>\n",
       "  </thead>\n",
       "  <tbody>\n",
       "    <tr>\n",
       "      <th>0</th>\n",
       "      <td>Penguin Books</td>\n",
       "      <td>42</td>\n",
       "    </tr>\n",
       "  </tbody>\n",
       "</table>\n",
       "</div>"
      ],
      "text/plain": [
       "       publisher  count_books\n",
       "0  Penguin Books           42"
      ]
     },
     "execution_count": 10,
     "metadata": {},
     "output_type": "execute_result"
    }
   ],
   "source": [
    "query = '''SELECT publisher,\n",
    "           COUNT(b.book_id) AS count_books\n",
    "           FROM publishers AS p LEFT JOIN books AS b ON p.publisher_id=b.publisher_id\n",
    "           WHERE b.num_pages > 50\n",
    "           GROUP BY publisher \n",
    "           ORDER BY count_books DESC\n",
    "           LIMIT 1'''\n",
    "con=engine.connect()\n",
    "pd.io.sql.read_sql(sql=text(query), con = con)"
   ]
  },
  {
   "cell_type": "markdown",
   "metadata": {},
   "source": [
    "Penguin Books - самое крупное по число выпущенных книг (толще 50 страниц) издательство."
   ]
  },
  {
   "cell_type": "markdown",
   "metadata": {},
   "source": [
    "4) Определите автора с самой высокой средней оценкой книг — учитывайте только книги с 50 и более оценками;"
   ]
  },
  {
   "cell_type": "code",
   "execution_count": 11,
   "metadata": {},
   "outputs": [
    {
     "data": {
      "text/html": [
       "<div>\n",
       "<style scoped>\n",
       "    .dataframe tbody tr th:only-of-type {\n",
       "        vertical-align: middle;\n",
       "    }\n",
       "\n",
       "    .dataframe tbody tr th {\n",
       "        vertical-align: top;\n",
       "    }\n",
       "\n",
       "    .dataframe thead th {\n",
       "        text-align: right;\n",
       "    }\n",
       "</style>\n",
       "<table border=\"1\" class=\"dataframe\">\n",
       "  <thead>\n",
       "    <tr style=\"text-align: right;\">\n",
       "      <th></th>\n",
       "      <th>author</th>\n",
       "      <th>total_rating</th>\n",
       "      <th>avg_rating</th>\n",
       "    </tr>\n",
       "  </thead>\n",
       "  <tbody>\n",
       "    <tr>\n",
       "      <th>0</th>\n",
       "      <td>J.K. Rowling/Mary GrandPré</td>\n",
       "      <td>310.0</td>\n",
       "      <td>4.283844</td>\n",
       "    </tr>\n",
       "  </tbody>\n",
       "</table>\n",
       "</div>"
      ],
      "text/plain": [
       "                       author  total_rating  avg_rating\n",
       "0  J.K. Rowling/Mary GrandPré         310.0    4.283844"
      ]
     },
     "execution_count": 11,
     "metadata": {},
     "output_type": "execute_result"
    }
   ],
   "source": [
    "query = '''\n",
    "WITH\n",
    "tb1 AS (SELECT rat.book_id,\n",
    "             AVG(rat.rating) AS avg_rating,\n",
    "             COUNT(rat.rating) AS count_rating\n",
    "      FROM ratings AS rat \n",
    "      GROUP BY rat.book_id\n",
    "      HAVING COUNT(rating) >=50),\n",
    "      \n",
    "tb2 AS (SELECT a.author_id,\n",
    "             SUM(tb1.count_rating) AS total_rating,\n",
    "             AVG(tb1.avg_rating) AS avg_rating\n",
    "       FROM authors AS a JOIN books b ON a.author_id = b.author_id\n",
    "       JOIN tb1 ON b.book_id = tb1.book_id\n",
    "       GROUP BY a.author_id)\n",
    "\n",
    "SELECT a.author,\n",
    "       tb2.total_rating,\n",
    "       tb2.avg_rating\n",
    "FROM author AS a JOIN tb2 ON a.author_id=tb2.author_id\n",
    "ORDER BY tb2.total_rating DESC\n",
    "LIMIT 1          \n",
    "'''\n",
    "\n",
    "con=engine.connect()\n",
    "pd.io.sql.read_sql(sql=text(query), con = con)"
   ]
  },
  {
   "cell_type": "markdown",
   "metadata": {},
   "source": [
    "Дж. К. Роулин - писательница с самой высокой средней оценкой книг (учитывали книги с 50 и более оценками)."
   ]
  },
  {
   "cell_type": "markdown",
   "metadata": {},
   "source": [
    "5) Посчитайте среднее количество обзоров от пользователей, которые поставили больше 48 оценок."
   ]
  },
  {
   "cell_type": "code",
   "execution_count": 12,
   "metadata": {},
   "outputs": [
    {
     "data": {
      "text/html": [
       "<div>\n",
       "<style scoped>\n",
       "    .dataframe tbody tr th:only-of-type {\n",
       "        vertical-align: middle;\n",
       "    }\n",
       "\n",
       "    .dataframe tbody tr th {\n",
       "        vertical-align: top;\n",
       "    }\n",
       "\n",
       "    .dataframe thead th {\n",
       "        text-align: right;\n",
       "    }\n",
       "</style>\n",
       "<table border=\"1\" class=\"dataframe\">\n",
       "  <thead>\n",
       "    <tr style=\"text-align: right;\">\n",
       "      <th></th>\n",
       "      <th>avg</th>\n",
       "    </tr>\n",
       "  </thead>\n",
       "  <tbody>\n",
       "    <tr>\n",
       "      <th>0</th>\n",
       "      <td>24.0</td>\n",
       "    </tr>\n",
       "  </tbody>\n",
       "</table>\n",
       "</div>"
      ],
      "text/plain": [
       "    avg\n",
       "0  24.0"
      ]
     },
     "execution_count": 12,
     "metadata": {},
     "output_type": "execute_result"
    }
   ],
   "source": [
    "query = '''\n",
    "WITH\n",
    "a AS (SELECT username\n",
    "      FROM ratings\n",
    "      GROUP BY username\n",
    "      HAVING COUNT(rating_id) > 48),\n",
    "\n",
    "b AS (SELECT COUNT (review_id) AS count_review,\n",
    "             username AS name\n",
    "      FROM reviews \n",
    "      GROUP BY username),\n",
    "\n",
    "m AS (SELECT b.count_review,\n",
    "             a.username\n",
    "      FROM a LEFT JOIN b ON a.username=b.name)\n",
    "\n",
    "SELECT AVG(m.count_review)\n",
    "FROM m\n",
    "'''\n",
    "con=engine.connect()\n",
    "pd.io.sql.read_sql(sql=text(query), con = con)"
   ]
  },
  {
   "cell_type": "markdown",
   "metadata": {},
   "source": [
    "Среднее количество обзоров от пользователей, поставивших больше 48 оценок - 24"
   ]
  },
  {
   "cell_type": "markdown",
   "metadata": {},
   "source": [
    "## Общий вывод\n",
    "\n",
    "Исходя из анализаа данных, можно сделать следующие выводы:\n",
    "\n",
    "1) Всего после 1 января 2000 года вышло 819 книг (всего представлено в датасете 1000 книг).\n",
    "\n",
    "2) Самый низкий рейтинг - 1.5, самый большой, соответственно, - 5.\n",
    "\n",
    "3) Penguin Books - самое крупное по число выпущенных книг (толще 50 страниц) издательство.\n",
    "\n",
    "4) Дж. К. Роулин - писательница с самой высокой средней оценкой книг (учитывали книги с 50 и более оценками).\n",
    "\n",
    "5) Среднее количество обзоров от пользователей, поставивших больше 48 оценок - 24."
   ]
  }
 ],
 "metadata": {
  "ExecuteTimeLog": [
   {
    "duration": 551,
    "start_time": "2025-01-29T07:52:20.647Z"
   },
   {
    "duration": 3,
    "start_time": "2025-01-29T07:52:36.810Z"
   },
   {
    "duration": 7712,
    "start_time": "2025-01-29T07:53:02.027Z"
   },
   {
    "duration": 3,
    "start_time": "2025-01-29T07:53:27.842Z"
   },
   {
    "duration": 8,
    "start_time": "2025-01-29T07:53:35.970Z"
   },
   {
    "duration": 60,
    "start_time": "2025-01-29T07:53:50.042Z"
   },
   {
    "duration": 52,
    "start_time": "2025-01-29T09:30:30.859Z"
   },
   {
    "duration": 10,
    "start_time": "2025-01-29T09:30:53.173Z"
   },
   {
    "duration": 11,
    "start_time": "2025-01-29T09:32:56.978Z"
   },
   {
    "duration": 11,
    "start_time": "2025-01-29T09:32:59.060Z"
   },
   {
    "duration": 25,
    "start_time": "2025-01-29T09:34:10.469Z"
   },
   {
    "duration": 22,
    "start_time": "2025-01-29T09:34:27.677Z"
   },
   {
    "duration": 48,
    "start_time": "2025-01-29T09:35:39.899Z"
   },
   {
    "duration": 142,
    "start_time": "2025-01-29T09:36:51.357Z"
   },
   {
    "duration": 69,
    "start_time": "2025-01-29T09:37:03.053Z"
   },
   {
    "duration": 53,
    "start_time": "2025-01-29T09:37:15.725Z"
   },
   {
    "duration": 65,
    "start_time": "2025-01-29T09:37:35.581Z"
   },
   {
    "duration": 58,
    "start_time": "2025-01-29T09:38:58.685Z"
   },
   {
    "duration": 50,
    "start_time": "2025-01-29T09:40:26.292Z"
   },
   {
    "duration": 61,
    "start_time": "2025-01-29T09:44:48.717Z"
   },
   {
    "duration": 11,
    "start_time": "2025-01-29T09:44:58.794Z"
   },
   {
    "duration": 20,
    "start_time": "2025-01-29T10:04:19.826Z"
   },
   {
    "duration": 20,
    "start_time": "2025-01-29T10:04:29.467Z"
   },
   {
    "duration": 9,
    "start_time": "2025-01-29T10:04:37.447Z"
   },
   {
    "duration": 10,
    "start_time": "2025-01-29T10:06:55.603Z"
   },
   {
    "duration": 479,
    "start_time": "2025-01-29T10:11:04.751Z"
   },
   {
    "duration": 7190,
    "start_time": "2025-01-29T10:11:05.231Z"
   },
   {
    "duration": 60,
    "start_time": "2025-01-29T10:11:12.422Z"
   },
   {
    "duration": 38,
    "start_time": "2025-01-29T10:11:12.484Z"
   },
   {
    "duration": 10,
    "start_time": "2025-01-29T10:11:12.523Z"
   },
   {
    "duration": 11,
    "start_time": "2025-01-29T10:11:12.534Z"
   },
   {
    "duration": 11,
    "start_time": "2025-01-29T10:11:12.546Z"
   },
   {
    "duration": 9,
    "start_time": "2025-01-29T10:11:12.558Z"
   },
   {
    "duration": 54,
    "start_time": "2025-01-29T16:39:02.748Z"
   },
   {
    "duration": 555,
    "start_time": "2025-01-29T16:39:17.444Z"
   },
   {
    "duration": 7421,
    "start_time": "2025-01-29T16:39:18.001Z"
   },
   {
    "duration": 58,
    "start_time": "2025-01-29T16:39:25.423Z"
   },
   {
    "duration": 29,
    "start_time": "2025-01-29T16:39:25.482Z"
   },
   {
    "duration": 11,
    "start_time": "2025-01-29T16:39:25.513Z"
   },
   {
    "duration": 11,
    "start_time": "2025-01-29T16:39:25.525Z"
   },
   {
    "duration": 11,
    "start_time": "2025-01-29T16:39:25.538Z"
   },
   {
    "duration": 10,
    "start_time": "2025-01-29T16:39:25.550Z"
   },
   {
    "duration": 113,
    "start_time": "2025-01-29T16:39:25.562Z"
   },
   {
    "duration": 30,
    "start_time": "2025-01-29T16:39:47.577Z"
   },
   {
    "duration": 44,
    "start_time": "2025-01-29T16:40:34.340Z"
   },
   {
    "duration": 22,
    "start_time": "2025-01-29T16:45:04.934Z"
   },
   {
    "duration": 21,
    "start_time": "2025-01-29T16:45:26.074Z"
   },
   {
    "duration": 46,
    "start_time": "2025-01-29T16:45:36.868Z"
   },
   {
    "duration": 16,
    "start_time": "2025-01-29T16:46:05.863Z"
   },
   {
    "duration": 15,
    "start_time": "2025-01-29T16:46:17.361Z"
   },
   {
    "duration": 13,
    "start_time": "2025-01-29T16:46:28.275Z"
   },
   {
    "duration": 24,
    "start_time": "2025-01-29T16:51:23.827Z"
   },
   {
    "duration": 17,
    "start_time": "2025-01-29T16:51:51.568Z"
   },
   {
    "duration": 21,
    "start_time": "2025-01-29T16:52:48.188Z"
   },
   {
    "duration": 21,
    "start_time": "2025-01-29T16:53:18.496Z"
   },
   {
    "duration": 49,
    "start_time": "2025-01-29T16:53:39.960Z"
   },
   {
    "duration": 63,
    "start_time": "2025-01-29T16:53:51.975Z"
   },
   {
    "duration": 14,
    "start_time": "2025-01-29T16:56:22.337Z"
   },
   {
    "duration": 18,
    "start_time": "2025-01-29T16:57:16.566Z"
   },
   {
    "duration": 16,
    "start_time": "2025-01-29T16:57:41.069Z"
   },
   {
    "duration": 27,
    "start_time": "2025-01-29T16:58:11.789Z"
   },
   {
    "duration": 22,
    "start_time": "2025-01-29T16:58:41.964Z"
   },
   {
    "duration": 19,
    "start_time": "2025-01-29T16:59:08.291Z"
   },
   {
    "duration": 18,
    "start_time": "2025-01-29T16:59:28.785Z"
   },
   {
    "duration": 18,
    "start_time": "2025-01-29T17:00:21.108Z"
   },
   {
    "duration": 18,
    "start_time": "2025-01-29T17:00:58.456Z"
   },
   {
    "duration": 23,
    "start_time": "2025-01-29T17:08:38.888Z"
   },
   {
    "duration": 24,
    "start_time": "2025-01-29T17:09:02.490Z"
   },
   {
    "duration": 34,
    "start_time": "2025-01-29T17:09:57.437Z"
   },
   {
    "duration": 23,
    "start_time": "2025-01-29T17:15:06.532Z"
   },
   {
    "duration": 13,
    "start_time": "2025-01-29T17:15:17.306Z"
   },
   {
    "duration": 22,
    "start_time": "2025-01-29T17:17:20.590Z"
   },
   {
    "duration": 21,
    "start_time": "2025-01-29T17:17:30.998Z"
   },
   {
    "duration": 51,
    "start_time": "2025-01-29T17:25:24.513Z"
   },
   {
    "duration": 21,
    "start_time": "2025-01-29T17:25:55.790Z"
   },
   {
    "duration": 41,
    "start_time": "2025-01-29T17:26:43.777Z"
   },
   {
    "duration": 21,
    "start_time": "2025-01-29T17:27:19.532Z"
   },
   {
    "duration": 22,
    "start_time": "2025-01-29T17:27:36.401Z"
   },
   {
    "duration": 45,
    "start_time": "2025-01-29T17:27:48.380Z"
   },
   {
    "duration": 59,
    "start_time": "2025-01-29T17:29:57.702Z"
   },
   {
    "duration": 11,
    "start_time": "2025-01-29T17:34:55.041Z"
   },
   {
    "duration": 29,
    "start_time": "2025-01-29T17:35:45.748Z"
   },
   {
    "duration": 10,
    "start_time": "2025-01-29T17:36:46.790Z"
   },
   {
    "duration": 11,
    "start_time": "2025-01-29T17:37:04.342Z"
   },
   {
    "duration": 15,
    "start_time": "2025-01-29T17:41:19.846Z"
   },
   {
    "duration": 12,
    "start_time": "2025-01-29T17:41:34.734Z"
   },
   {
    "duration": 537,
    "start_time": "2025-01-29T17:52:07.179Z"
   },
   {
    "duration": 7591,
    "start_time": "2025-01-29T17:52:07.718Z"
   },
   {
    "duration": 47,
    "start_time": "2025-01-29T17:52:15.311Z"
   },
   {
    "duration": 38,
    "start_time": "2025-01-29T17:52:15.359Z"
   },
   {
    "duration": 11,
    "start_time": "2025-01-29T17:52:15.399Z"
   },
   {
    "duration": 15,
    "start_time": "2025-01-29T17:52:15.411Z"
   },
   {
    "duration": 11,
    "start_time": "2025-01-29T17:52:15.428Z"
   },
   {
    "duration": 18,
    "start_time": "2025-01-29T17:52:15.441Z"
   },
   {
    "duration": 29,
    "start_time": "2025-01-29T17:52:15.460Z"
   },
   {
    "duration": 11,
    "start_time": "2025-01-29T17:52:15.491Z"
   },
   {
    "duration": 30,
    "start_time": "2025-01-29T17:52:15.503Z"
   },
   {
    "duration": 20,
    "start_time": "2025-01-29T17:52:15.534Z"
   },
   {
    "duration": 813,
    "start_time": "2025-01-29T18:28:35.708Z"
   },
   {
    "duration": 8285,
    "start_time": "2025-01-29T18:28:36.523Z"
   },
   {
    "duration": 48,
    "start_time": "2025-01-29T18:28:44.809Z"
   },
   {
    "duration": 55,
    "start_time": "2025-01-29T18:28:44.901Z"
   },
   {
    "duration": 47,
    "start_time": "2025-01-29T18:28:44.957Z"
   },
   {
    "duration": 12,
    "start_time": "2025-01-29T18:28:45.006Z"
   },
   {
    "duration": 90,
    "start_time": "2025-01-29T18:28:45.019Z"
   },
   {
    "duration": 19,
    "start_time": "2025-01-29T18:28:45.110Z"
   },
   {
    "duration": 100,
    "start_time": "2025-01-29T18:28:45.131Z"
   },
   {
    "duration": 76,
    "start_time": "2025-01-29T18:28:45.233Z"
   },
   {
    "duration": 23,
    "start_time": "2025-01-29T18:28:45.310Z"
   },
   {
    "duration": 25,
    "start_time": "2025-01-29T18:28:45.334Z"
   },
   {
    "duration": 15,
    "start_time": "2025-01-29T18:31:42.455Z"
   },
   {
    "duration": 15,
    "start_time": "2025-01-29T18:31:46.223Z"
   },
   {
    "duration": 29,
    "start_time": "2025-01-29T20:11:29.089Z"
   },
   {
    "duration": 20,
    "start_time": "2025-01-29T20:12:16.670Z"
   },
   {
    "duration": 13,
    "start_time": "2025-01-29T20:15:09.415Z"
   },
   {
    "duration": 12,
    "start_time": "2025-01-29T20:15:41.085Z"
   },
   {
    "duration": 20,
    "start_time": "2025-01-29T20:15:49.026Z"
   },
   {
    "duration": 57,
    "start_time": "2025-01-29T20:18:14.817Z"
   },
   {
    "duration": 522,
    "start_time": "2025-01-30T04:12:57.116Z"
   },
   {
    "duration": 8194,
    "start_time": "2025-01-30T04:12:57.640Z"
   },
   {
    "duration": 254,
    "start_time": "2025-01-30T04:13:05.836Z"
   },
   {
    "duration": 143,
    "start_time": "2025-01-30T04:13:06.092Z"
   },
   {
    "duration": 51,
    "start_time": "2025-01-30T04:13:06.237Z"
   },
   {
    "duration": 51,
    "start_time": "2025-01-30T04:13:06.290Z"
   },
   {
    "duration": 57,
    "start_time": "2025-01-30T04:13:06.343Z"
   },
   {
    "duration": 51,
    "start_time": "2025-01-30T04:13:06.402Z"
   },
   {
    "duration": 88,
    "start_time": "2025-01-30T04:13:06.455Z"
   },
   {
    "duration": 57,
    "start_time": "2025-01-30T04:13:06.546Z"
   },
   {
    "duration": 59,
    "start_time": "2025-01-30T04:13:06.605Z"
   },
   {
    "duration": 61,
    "start_time": "2025-01-30T04:13:06.667Z"
   },
   {
    "duration": 73,
    "start_time": "2025-01-30T04:13:21.425Z"
   },
   {
    "duration": 50,
    "start_time": "2025-01-30T05:44:51.472Z"
   },
   {
    "duration": 522,
    "start_time": "2025-01-30T05:44:56.853Z"
   },
   {
    "duration": 7752,
    "start_time": "2025-01-30T05:44:57.377Z"
   },
   {
    "duration": 237,
    "start_time": "2025-01-30T05:45:05.130Z"
   },
   {
    "duration": 151,
    "start_time": "2025-01-30T05:45:05.369Z"
   },
   {
    "duration": 53,
    "start_time": "2025-01-30T05:45:05.522Z"
   },
   {
    "duration": 54,
    "start_time": "2025-01-30T05:45:05.577Z"
   },
   {
    "duration": 56,
    "start_time": "2025-01-30T05:45:05.633Z"
   },
   {
    "duration": 53,
    "start_time": "2025-01-30T05:45:05.691Z"
   },
   {
    "duration": 92,
    "start_time": "2025-01-30T05:45:05.746Z"
   },
   {
    "duration": 58,
    "start_time": "2025-01-30T05:45:05.841Z"
   },
   {
    "duration": 58,
    "start_time": "2025-01-30T05:45:05.901Z"
   },
   {
    "duration": 73,
    "start_time": "2025-01-30T05:45:05.961Z"
   },
   {
    "duration": 90,
    "start_time": "2025-01-30T05:45:20.595Z"
   },
   {
    "duration": 90,
    "start_time": "2025-01-30T05:45:35.355Z"
   },
   {
    "duration": 91,
    "start_time": "2025-01-30T05:46:17.674Z"
   },
   {
    "duration": 59,
    "start_time": "2025-01-30T05:46:43.634Z"
   },
   {
    "duration": 59,
    "start_time": "2025-01-30T05:48:04.594Z"
   },
   {
    "duration": 72,
    "start_time": "2025-01-30T05:52:12.202Z"
   },
   {
    "duration": 56,
    "start_time": "2025-01-30T05:53:54.186Z"
   },
   {
    "duration": 88,
    "start_time": "2025-01-30T05:57:50.146Z"
   },
   {
    "duration": 138,
    "start_time": "2025-01-30T06:12:06.832Z"
   },
   {
    "duration": 63,
    "start_time": "2025-01-30T06:12:26.294Z"
   },
   {
    "duration": 140,
    "start_time": "2025-01-30T06:12:53.922Z"
   },
   {
    "duration": 128,
    "start_time": "2025-01-30T06:13:17.502Z"
   },
   {
    "duration": 62,
    "start_time": "2025-01-30T06:13:31.878Z"
   },
   {
    "duration": 67,
    "start_time": "2025-01-30T06:22:50.163Z"
   },
   {
    "duration": 86,
    "start_time": "2025-01-30T06:27:29.832Z"
   },
   {
    "duration": 85,
    "start_time": "2025-01-30T06:28:12.632Z"
   },
   {
    "duration": 84,
    "start_time": "2025-01-30T06:28:18.552Z"
   },
   {
    "duration": 76,
    "start_time": "2025-01-30T06:29:43.137Z"
   },
   {
    "duration": 76,
    "start_time": "2025-01-30T06:29:53.016Z"
   },
   {
    "duration": 83,
    "start_time": "2025-01-30T06:30:05.839Z"
   },
   {
    "duration": 85,
    "start_time": "2025-01-30T06:30:34.344Z"
   },
   {
    "duration": 73,
    "start_time": "2025-01-30T06:34:24.374Z"
   },
   {
    "duration": 60,
    "start_time": "2025-01-30T06:35:14.015Z"
   },
   {
    "duration": 148,
    "start_time": "2025-01-30T06:36:09.950Z"
   },
   {
    "duration": 59,
    "start_time": "2025-01-30T06:37:17.527Z"
   },
   {
    "duration": 73,
    "start_time": "2025-01-30T06:41:42.133Z"
   },
   {
    "duration": 62,
    "start_time": "2025-01-30T06:41:53.039Z"
   },
   {
    "duration": 151,
    "start_time": "2025-01-30T06:42:03.907Z"
   },
   {
    "duration": 76,
    "start_time": "2025-01-30T06:43:42.229Z"
   },
   {
    "duration": 63,
    "start_time": "2025-01-30T06:43:57.525Z"
   },
   {
    "duration": 137,
    "start_time": "2025-01-30T06:44:04.566Z"
   },
   {
    "duration": 128,
    "start_time": "2025-01-30T06:46:23.558Z"
   },
   {
    "duration": 150,
    "start_time": "2025-01-30T06:52:43.324Z"
   },
   {
    "duration": 66,
    "start_time": "2025-01-30T06:53:10.268Z"
   },
   {
    "duration": 63,
    "start_time": "2025-01-30T06:54:53.397Z"
   },
   {
    "duration": 61,
    "start_time": "2025-01-30T06:55:07.621Z"
   },
   {
    "duration": 65,
    "start_time": "2025-01-30T06:55:21.299Z"
   },
   {
    "duration": 134,
    "start_time": "2025-01-30T06:55:37.804Z"
   },
   {
    "duration": 146,
    "start_time": "2025-01-30T06:55:56.323Z"
   },
   {
    "duration": 74,
    "start_time": "2025-01-30T06:57:08.509Z"
   },
   {
    "duration": 71,
    "start_time": "2025-01-30T06:59:58.348Z"
   },
   {
    "duration": 61,
    "start_time": "2025-01-30T07:00:11.886Z"
   },
   {
    "duration": 58,
    "start_time": "2025-01-30T07:00:27.797Z"
   },
   {
    "duration": 74,
    "start_time": "2025-01-30T07:00:54.672Z"
   },
   {
    "duration": 48,
    "start_time": "2025-01-30T07:01:08.476Z"
   },
   {
    "duration": 55,
    "start_time": "2025-01-30T07:01:17.478Z"
   },
   {
    "duration": 84,
    "start_time": "2025-01-30T07:06:59.403Z"
   },
   {
    "duration": 86,
    "start_time": "2025-01-30T07:07:30.995Z"
   },
   {
    "duration": 83,
    "start_time": "2025-01-30T07:09:54.363Z"
   },
   {
    "duration": 92,
    "start_time": "2025-01-30T07:10:01.331Z"
   },
   {
    "duration": 84,
    "start_time": "2025-01-30T07:13:18.434Z"
   },
   {
    "duration": 85,
    "start_time": "2025-01-30T07:13:30.283Z"
   },
   {
    "duration": 550,
    "start_time": "2025-01-30T07:15:13.599Z"
   },
   {
    "duration": 8360,
    "start_time": "2025-01-30T07:15:14.150Z"
   },
   {
    "duration": 232,
    "start_time": "2025-01-30T07:15:22.511Z"
   },
   {
    "duration": 127,
    "start_time": "2025-01-30T07:15:22.746Z"
   },
   {
    "duration": 53,
    "start_time": "2025-01-30T07:15:22.875Z"
   },
   {
    "duration": 54,
    "start_time": "2025-01-30T07:15:22.929Z"
   },
   {
    "duration": 55,
    "start_time": "2025-01-30T07:15:22.984Z"
   },
   {
    "duration": 51,
    "start_time": "2025-01-30T07:15:23.041Z"
   },
   {
    "duration": 86,
    "start_time": "2025-01-30T07:15:23.093Z"
   },
   {
    "duration": 53,
    "start_time": "2025-01-30T07:15:23.181Z"
   },
   {
    "duration": 57,
    "start_time": "2025-01-30T07:15:23.235Z"
   },
   {
    "duration": 53,
    "start_time": "2025-01-30T07:15:23.294Z"
   }
  ],
  "kernelspec": {
   "display_name": "Python 3 (ipykernel)",
   "language": "python",
   "name": "python3"
  },
  "language_info": {
   "codemirror_mode": {
    "name": "ipython",
    "version": 3
   },
   "file_extension": ".py",
   "mimetype": "text/x-python",
   "name": "python",
   "nbconvert_exporter": "python",
   "pygments_lexer": "ipython3",
   "version": "3.9.5"
  },
  "toc": {
   "base_numbering": 1,
   "nav_menu": {},
   "number_sections": true,
   "sideBar": true,
   "skip_h1_title": true,
   "title_cell": "Table of Contents",
   "title_sidebar": "Contents",
   "toc_cell": false,
   "toc_position": {},
   "toc_section_display": true,
   "toc_window_display": false
  }
 },
 "nbformat": 4,
 "nbformat_minor": 2
}
